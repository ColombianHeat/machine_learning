{
 "cells": [
  {
   "cell_type": "code",
   "execution_count": null,
   "id": "ee28e49a-7b53-497d-9faa-5e22bcee0756",
   "metadata": {
    "execution": {
     "iopub.execute_input": "2023-01-21T01:19:45.096276Z",
     "iopub.status.busy": "2023-01-21T01:19:45.095593Z",
     "iopub.status.idle": "2023-01-21T01:19:45.101408Z",
     "shell.execute_reply": "2023-01-21T01:19:45.100567Z",
     "shell.execute_reply.started": "2023-01-21T01:19:45.096200Z"
    }
   },
   "outputs": [],
   "source": [
    "\"\"\"\n",
    "Current 22-Jan-2023\n",
    "\n",
    "My first proper machine learning project!\n",
    "\n",
    "Takes as input a list of room names and floor areas. Outputs one of 76 ASHRAE space usage categories per room. Useful in automating\n",
    " a crucial step when calculating the loads of a building.\n",
    "\n",
    " Some tuning of the hyperparameters is still required; the model successfully makes predictions, but they are not great predictions.\n",
    " Having more than 700 data points for training and validation would also likely help.\n",
    "\"\"\""
   ]
  },
  {
   "cell_type": "markdown",
   "id": "aadee706-737c-4817-9b32-a8ce70b9db81",
   "metadata": {},
   "source": [
    "### Dataframe Preparation"
   ]
  },
  {
   "cell_type": "code",
   "execution_count": null,
   "id": "e4099cb0-6d60-4480-bbd9-c6fb4a660717",
   "metadata": {
    "execution": {
     "iopub.execute_input": "2023-01-21T01:19:45.103269Z",
     "iopub.status.busy": "2023-01-21T01:19:45.102947Z",
     "iopub.status.idle": "2023-01-21T01:19:45.118237Z",
     "shell.execute_reply": "2023-01-21T01:19:45.117227Z",
     "shell.execute_reply.started": "2023-01-21T01:19:45.103238Z"
    }
   },
   "outputs": [],
   "source": [
    "space_usage_cats = ['User-Defined',\n",
    "                    'CORRECTIONAL FACILITY: Booking/waiting',\n",
    "                    'CORRECTIONAL FACILITY: Cell',\n",
    "                    'CORRECTIONAL FACILITY: Dayroom',\n",
    "                    'CORRECTIONAL FACILITY: Guard stations',\n",
    "                    'EDUCATION: Art classroom',\n",
    "                    'EDUCATION: Classroom (age 9 plus)',\n",
    "                    'EDUCATION: Classroom (ages 5-8)',\n",
    "                    'EDUCATION: Computer Lab',\n",
    "                    'EDUCATION: Daycare (through age 4)',\n",
    "                    'EDUCATION: Daycare Sickroom',\n",
    "                    'EDUCATION: Lecture Classroom',\n",
    "                    'EDUCATION: Lecture Hall (fixed seats)',\n",
    "                    'EDUCATION: Media Center',\n",
    "                    'EDUCATION: Multiuse Assembly',\n",
    "                    'EDUCATION: Music/theater/dance',\n",
    "                    'EDUCATION: Science Laboratory',\n",
    "                    'EDUCATION: University/college Laboratory',\n",
    "                    'EDUCATION: Wood/metal Shop',\n",
    "                    'FOOD AND BEVERAGE SERVICE: Bar, Cocktail Lounge',\n",
    "                    'FOOD AND BEVERAGE SERVICE: Cafeteria/Fast Food Dining',\n",
    "                    'FOOD AND BEVERAGE SERVICE: Kitchen (cooking)',\n",
    "                    'FOOD AND BEVERAGE SERVICE: Restaurant Dining Room',\n",
    "                    'GENERAL: Break Room',\n",
    "                    'GENERAL: Coffee Station',\n",
    "                    'GENERAL: Conference/Meeting',\n",
    "                    'GENERAL: Corridor',\n",
    "                    'GENERAL: Occupiable Storage Room (liq/gel)',\n",
    "                    'HOTEL / MOTEL / RESORT / DORM: Barracks sleeping area',\n",
    "                    'HOTEL / MOTEL / RESORT / DORM: Bedroom/Living Room',\n",
    "                    'HOTEL / MOTEL / RESORT / DORM: Laundry Room Within Dwelling Unit', # confirm if correct\n",
    "                    'HOTEL / MOTEL / RESORT / DORM: Laundry Room, Central',\n",
    "                    'HOTEL / MOTEL / RESORT / DORM: Lobby/Prefunction',\n",
    "                    'HOTEL / MOTEL / RESORT / DORM: Multipurpose Assembly',\n",
    "                    'MISCELLANEOUS: Bank or Bank Lobby',\n",
    "                    'MISCELLANEOUS: Bank Vault/Safe Deposit',\n",
    "                    'MISCELLANEOUS: Computer (not printing)',\n",
    "                    'MISCELLANEOUS: Freezer and Refrigerated Spaces (<50°F)',\n",
    "                    'MISCELLANEOUS: General Manufacturing (EXCLUDES HEAVY INDUSTRIAL AND PROCESSES USING CHEMICALS)',\n",
    "                    'MISCELLANEOUS: Pharmacy (prep. area)',\n",
    "                    'MISCELLANEOUS: Photo Studio',\n",
    "                    'MISCELLANEOUS: Shipping/Receiving',\n",
    "                    'MISCELLANEOUS: Sorting, Packing, Light Assembly',\n",
    "                    'MISCELLANEOUS: Telephone Closet',\n",
    "                    'MISCELLANEOUS: Transportation Waiting',\n",
    "                    'MISCELLANEOUS: Warehouse',\n",
    "                    'OFFICE: Breakroom',\n",
    "                    'OFFICE: Main Entry Lobby',\n",
    "                    'OFFICE: Occupiable Storage Room for Dry Materials',\n",
    "                    'OFFICE: Office Space',\n",
    "                    'OFFICE: Reception Area',\n",
    "                    'OFFICE: Telephone/Data Entry',\n",
    "                    'PUBLIC ASSEMBLY: Auditorium Seating Area',\n",
    "                    'PUBLIC ASSEMBLY: Courtroom',\n",
    "                    'PUBLIC ASSEMBLY: Legislative Chamber',\n",
    "                    'PUBLIC ASSEMBLY: Library',\n",
    "                    'PUBLIC ASSEMBLY: Lobby',\n",
    "                    'PUBLIC ASSEMBLY: Museum (Children\\'s)',\n",
    "                    'PUBLIC ASSEMBLY: Museum/Gallery',\n",
    "                    'PUBLIC ASSEMBLY: Place of Religious Worship',\n",
    "                    'RESIDENTIAL: Common Corridor',\n",
    "                    'RESIDENTIAL: Dwelling Unit',\n",
    "                    'RETAIL: Barbershop',\n",
    "                    'RETAIL: Beauty and Nail Salon',\n",
    "                    'RETAIL: Coin-operated laundry',\n",
    "                    'RETAIL: Mall common area',\n",
    "                    'RETAIL: Pet shop (animal area)',\n",
    "                    'RETAIL: Sales (except other categories here)',\n",
    "                    'RETAIL: Supermarket',\n",
    "                    'SPORTS: Bowling alley (seating)',\n",
    "                    'SPORTS: Disco/dance floor',\n",
    "                    'SPORTS: Gambling casino',\n",
    "                    'SPORTS: Game arcade',\n",
    "                    'SPORTS: Gym, sports arena (play area)',\n",
    "                    'SPORTS: Health club/aerobics room',\n",
    "                    'SPORTS: Health club/weight room',\n",
    "                    'SPORTS: Spectator area',\n",
    "                    'SPORTS: Stage, studio',\n",
    "                    'SPORTS: Swimming (pool & deck)'\n",
    "                    ]\n",
    "\n",
    "SPACE_USAGE_CATS = []\n",
    "for category in space_usage_cats:\n",
    "    SPACE_USAGE_CATS.append(category.upper())"
   ]
  },
  {
   "cell_type": "code",
   "execution_count": null,
   "id": "2dcc1a03-f951-44e8-b81e-0dfe276d15fc",
   "metadata": {
    "execution": {
     "iopub.execute_input": "2023-01-21T01:19:45.119930Z",
     "iopub.status.busy": "2023-01-21T01:19:45.119350Z",
     "iopub.status.idle": "2023-01-21T01:19:45.526119Z",
     "shell.execute_reply": "2023-01-21T01:19:45.524880Z",
     "shell.execute_reply.started": "2023-01-21T01:19:45.119927Z"
    }
   },
   "outputs": [],
   "source": [
    "import pandas as pd\n",
    "import numpy as np\n",
    "\n",
    "df = pd.read_pickle('combined_df.pickle')\n",
    "df.usage_cat = df.usage_cat.str.upper()\n",
    "df.name = df.name.str.upper()\n",
    "df.loc[df.usage_cat == 'EDUCATION: CLASSROOM (AGE 9+)', 'usage_cat'] = 'EDUCATION: CLASSROOM (AGE 9 PLUS)'\n",
    "df.loc[df.usage_cat == 'FOOD SERVICE: CAFETERIA/FAST FOOD', 'usage_cat'] = 'FOOD AND BEVERAGE SERVICE: CAFETERIA/FAST FOOD DINING'\n",
    "df.loc[df.usage_cat == 'FOOD SERVICE: KITCHEN (COOKING)', 'usage_cat'] = 'FOOD AND BEVERAGE SERVICE: KITCHEN (COOKING)'\n",
    "df.loc[df.usage_cat == 'FOOD SERVICE: RESTAURANT DINING ROOM', 'usage_cat'] = 'FOOD AND BEVERAGE SERVICE: RESTAURANT DINING ROOM'\n",
    "df.loc[df.usage_cat == 'EDUCATION: MULTI-USE ASSEMBLY', 'usage_cat'] = 'EDUCATION: MULTIUSE ASSEMBLY'\n",
    "df.loc[df.usage_cat == 'PUBLIC ASSEMBLY: AUDITORIUM', 'usage_cat'] = 'PUBLIC ASSEMBLY: AUDITORIUM SEATING AREA'\n",
    "df.loc[df.usage_cat == 'OFFICE: OCCUPIABLE STORAGE ROOM (DRY)', 'usage_cat'] = 'OFFICE: OCCUPIABLE STORAGE ROOM FOR DRY MATERIALS'\n",
    "df.loc[df.usage_cat == 'MISCELLANEOUS: GENERAL MANUFACTURING', 'usage_cat'] = 'MISCELLANEOUS: GENERAL MANUFACTURING (EXCLUDES HEAVY INDUSTRIAL AND PROCESSES USING CHEMICALS)'\n",
    "\n",
    "\n",
    "df[df.usage_cat.isin(['PUBLIC ASSEMBLY: AUDITORIUM'])]"
   ]
  },
  {
   "cell_type": "code",
   "execution_count": null,
   "id": "fee3076e-7012-4a57-b2f4-f3af5031d380",
   "metadata": {
    "execution": {
     "iopub.execute_input": "2023-01-21T01:19:45.528807Z",
     "iopub.status.busy": "2023-01-21T01:19:45.528490Z",
     "iopub.status.idle": "2023-01-21T01:19:45.538398Z",
     "shell.execute_reply": "2023-01-21T01:19:45.537708Z",
     "shell.execute_reply.started": "2023-01-21T01:19:45.528773Z"
    }
   },
   "outputs": [],
   "source": [
    "pd.set_option('display.max_colwidth', None)\n",
    "\n",
    "# Checking to see if each value in the usage_cat column appears letter for letter in the full list of categories\n",
    "df[df.usage_cat.isin(SPACE_USAGE_CATS) == False]"
   ]
  },
  {
   "cell_type": "code",
   "execution_count": null,
   "id": "3545c1e5-1a8d-4cdf-983b-dcec3787d9a9",
   "metadata": {
    "execution": {
     "iopub.execute_input": "2023-01-21T01:19:45.539189Z",
     "iopub.status.busy": "2023-01-21T01:19:45.539052Z",
     "iopub.status.idle": "2023-01-21T01:19:45.546025Z",
     "shell.execute_reply": "2023-01-21T01:19:45.545050Z",
     "shell.execute_reply.started": "2023-01-21T01:19:45.539151Z"
    }
   },
   "outputs": [],
   "source": [
    "# Lists any categories which appear in our training data\n",
    "data_cats = df.usage_cat.tolist()\n",
    "present_cats = list(set(data_cats))\n",
    "present_cats.sort()\n",
    "\n",
    "# Lists any categories in the full list which do not appear in our training data\n",
    "missing_cats = list(set(SPACE_USAGE_CATS) - set(present_cats))\n",
    "missing_cats.sort()\n",
    "\n",
    "len(present_cats), len(missing_cats), len(SPACE_USAGE_CATS)"
   ]
  },
  {
   "cell_type": "code",
   "execution_count": null,
   "id": "9dfdcdc9-4446-45cc-a31f-fafefcbf8c16",
   "metadata": {
    "execution": {
     "iopub.execute_input": "2023-01-21T01:19:45.547736Z",
     "iopub.status.busy": "2023-01-21T01:19:45.547475Z",
     "iopub.status.idle": "2023-01-21T01:19:45.564691Z",
     "shell.execute_reply": "2023-01-21T01:19:45.563652Z",
     "shell.execute_reply.started": "2023-01-21T01:19:45.547711Z"
    }
   },
   "outputs": [],
   "source": [
    "# Create a column in the dataframe containing an integer corresponding to a category\n",
    "label_dict = dict(zip(SPACE_USAGE_CATS, range(len(SPACE_USAGE_CATS))))\n",
    "df['usage_cat_integer'] = df.usage_cat.map(label_dict)\n",
    "df.usage_cat_integer = df.usage_cat_integer.astype(float)\n",
    "df"
   ]
  },
  {
   "cell_type": "code",
   "execution_count": null,
   "id": "0e2a9c53-958b-4672-acb8-fe23d39245e1",
   "metadata": {
    "execution": {
     "iopub.execute_input": "2023-01-21T01:19:45.566046Z",
     "iopub.status.busy": "2023-01-21T01:19:45.565767Z",
     "iopub.status.idle": "2023-01-21T01:19:45.581907Z",
     "shell.execute_reply": "2023-01-21T01:19:45.580914Z",
     "shell.execute_reply.started": "2023-01-21T01:19:45.566020Z"
    }
   },
   "outputs": [],
   "source": [
    "df.describe(include='object')"
   ]
  },
  {
   "cell_type": "code",
   "execution_count": null,
   "id": "8cfb44a0-4d7a-4bd0-9482-17a6b0ed9282",
   "metadata": {
    "execution": {
     "iopub.execute_input": "2023-01-21T01:19:45.583601Z",
     "iopub.status.busy": "2023-01-21T01:19:45.583207Z",
     "iopub.status.idle": "2023-01-21T01:19:45.590291Z",
     "shell.execute_reply": "2023-01-21T01:19:45.589304Z",
     "shell.execute_reply.started": "2023-01-21T01:19:45.583567Z"
    }
   },
   "outputs": [],
   "source": [
    "# Creating our input column\n",
    "df['input'] = 'TEXT1: ' + df.name + '; TEXT2: ' + df.area"
   ]
  },
  {
   "cell_type": "markdown",
   "id": "f7e12309-d302-4f7c-bbe5-178dddf3e620",
   "metadata": {},
   "source": [
    "### Transformers Dataset Preparation"
   ]
  },
  {
   "cell_type": "code",
   "execution_count": null,
   "id": "ca468664-6dc6-4da5-a223-3914119f47c1",
   "metadata": {
    "execution": {
     "iopub.execute_input": "2023-01-21T01:19:45.593888Z",
     "iopub.status.busy": "2023-01-21T01:19:45.593562Z",
     "iopub.status.idle": "2023-01-21T01:19:45.991257Z",
     "shell.execute_reply": "2023-01-21T01:19:45.990706Z",
     "shell.execute_reply.started": "2023-01-21T01:19:45.593861Z"
    }
   },
   "outputs": [],
   "source": [
    "# Creating a dataset for Transformers to use\n",
    "from datasets import Dataset,DatasetDict\n",
    "\n",
    "ds = Dataset.from_pandas(df)\n",
    "ds"
   ]
  },
  {
   "cell_type": "code",
   "execution_count": null,
   "id": "af27712a-624a-46dd-857c-0da45253229d",
   "metadata": {
    "execution": {
     "iopub.execute_input": "2023-01-21T01:19:45.993151Z",
     "iopub.status.busy": "2023-01-21T01:19:45.992694Z",
     "iopub.status.idle": "2023-01-21T01:19:46.758976Z",
     "shell.execute_reply": "2023-01-21T01:19:46.758187Z",
     "shell.execute_reply.started": "2023-01-21T01:19:45.993151Z"
    }
   },
   "outputs": [],
   "source": [
    "# Select a pre-trained model and use it to create a tokenizer\n",
    "model_nm = 'bert-base-uncased'\n",
    "\n",
    "from transformers import AutoModelForSequenceClassification, AutoTokenizer\n",
    "\n",
    "tokenize = AutoTokenizer.from_pretrained(model_nm)"
   ]
  },
  {
   "cell_type": "code",
   "execution_count": null,
   "id": "83805188-cd2d-4cdc-8b54-316c9530894d",
   "metadata": {
    "execution": {
     "iopub.execute_input": "2023-01-21T01:19:46.760405Z",
     "iopub.status.busy": "2023-01-21T01:19:46.760154Z",
     "iopub.status.idle": "2023-01-21T01:19:46.766622Z",
     "shell.execute_reply": "2023-01-21T01:19:46.765950Z",
     "shell.execute_reply.started": "2023-01-21T01:19:46.760365Z"
    }
   },
   "outputs": [],
   "source": [
    "tokenize.tokenize('This is an absolutely amazing sentence which is getting tokenized right now!!!')"
   ]
  },
  {
   "cell_type": "code",
   "execution_count": null,
   "id": "9a7a7517-4182-42b6-9325-b9eec89877e1",
   "metadata": {
    "execution": {
     "iopub.execute_input": "2023-01-21T01:19:46.767707Z",
     "iopub.status.busy": "2023-01-21T01:19:46.767472Z",
     "iopub.status.idle": "2023-01-21T01:19:46.771296Z",
     "shell.execute_reply": "2023-01-21T01:19:46.770558Z",
     "shell.execute_reply.started": "2023-01-21T01:19:46.767684Z"
    }
   },
   "outputs": [],
   "source": [
    "# Function to tokenize the 'input' column of our dataframe\n",
    "def tokenize_fnc(x):\n",
    "    return tokenize(x['input'], truncation=True, padding=True)"
   ]
  },
  {
   "cell_type": "code",
   "execution_count": null,
   "id": "9b87ff04-d1c6-45e1-9d94-d5cf7e1861b3",
   "metadata": {
    "execution": {
     "iopub.execute_input": "2023-01-21T01:19:46.772487Z",
     "iopub.status.busy": "2023-01-21T01:19:46.772258Z",
     "iopub.status.idle": "2023-01-21T01:19:47.039661Z",
     "shell.execute_reply": "2023-01-21T01:19:47.038465Z",
     "shell.execute_reply.started": "2023-01-21T01:19:46.772466Z"
    }
   },
   "outputs": [],
   "source": [
    "# Tokenize our dataset!\n",
    "tokenized_ds = ds.map(tokenize_fnc, batched=False)"
   ]
  },
  {
   "cell_type": "code",
   "execution_count": null,
   "id": "fa516fc6-7a9a-4547-8fff-570df83e88c4",
   "metadata": {
    "execution": {
     "iopub.execute_input": "2023-01-21T01:19:47.041145Z",
     "iopub.status.busy": "2023-01-21T01:19:47.040865Z",
     "iopub.status.idle": "2023-01-21T01:19:47.048222Z",
     "shell.execute_reply": "2023-01-21T01:19:47.047398Z",
     "shell.execute_reply.started": "2023-01-21T01:19:47.041113Z"
    }
   },
   "outputs": [],
   "source": [
    "tokenized_ds[0]"
   ]
  },
  {
   "cell_type": "code",
   "execution_count": null,
   "id": "58c86e28-8928-45ea-8caa-e4d73d996496",
   "metadata": {
    "execution": {
     "iopub.execute_input": "2023-01-21T01:19:47.049375Z",
     "iopub.status.busy": "2023-01-21T01:19:47.049142Z",
     "iopub.status.idle": "2023-01-21T01:19:47.810300Z",
     "shell.execute_reply": "2023-01-21T01:19:47.809373Z",
     "shell.execute_reply.started": "2023-01-21T01:19:47.049362Z"
    }
   },
   "outputs": [],
   "source": [
    "# Transformers assumes that our labels column is always named 'labels'\n",
    "tokenized_ds = tokenized_ds.rename_columns({'usage_cat_integer': 'labels'})\n",
    "tokenized_ds = tokenized_ds.remove_columns(['input', 'name', 'area', 'usage_cat'])\n",
    "\n",
    "columns_to_return = ['input_ids', 'labels', 'attention_mask', 'token_type_ids']\n",
    "tokenized_ds.set_format(type='torch', columns=columns_to_return)\n",
    "tokenized_ds"
   ]
  },
  {
   "cell_type": "code",
   "execution_count": null,
   "id": "86077e80-2fae-446d-8347-889062488e54",
   "metadata": {
    "execution": {
     "iopub.execute_input": "2023-01-21T01:19:47.812208Z",
     "iopub.status.busy": "2023-01-21T01:19:47.811561Z",
     "iopub.status.idle": "2023-01-21T01:19:47.818245Z",
     "shell.execute_reply": "2023-01-21T01:19:47.817528Z",
     "shell.execute_reply.started": "2023-01-21T01:19:47.812208Z"
    }
   },
   "outputs": [],
   "source": [
    "tokenized_ds.format['type']"
   ]
  },
  {
   "cell_type": "code",
   "execution_count": null,
   "id": "74ff444b-e176-4c9a-801e-e8e97ad569e1",
   "metadata": {
    "execution": {
     "iopub.execute_input": "2023-01-21T01:19:47.819517Z",
     "iopub.status.busy": "2023-01-21T01:19:47.819038Z",
     "iopub.status.idle": "2023-01-21T01:19:47.832373Z",
     "shell.execute_reply": "2023-01-21T01:19:47.831425Z",
     "shell.execute_reply.started": "2023-01-21T01:19:47.819517Z"
    }
   },
   "outputs": [],
   "source": [
    "# Split into training and validation sets. 75% of data will be training data and\n",
    "# 25% will be validation data\n",
    "dds = tokenized_ds.train_test_split(0.25)\n",
    "dds"
   ]
  },
  {
   "cell_type": "code",
   "execution_count": null,
   "id": "5af77000-483a-4283-a424-e315aad2e40d",
   "metadata": {
    "execution": {
     "iopub.execute_input": "2023-01-21T01:19:47.833575Z",
     "iopub.status.busy": "2023-01-21T01:19:47.833262Z",
     "iopub.status.idle": "2023-01-21T01:19:54.317132Z",
     "shell.execute_reply": "2023-01-21T01:19:54.316134Z",
     "shell.execute_reply.started": "2023-01-21T01:19:47.833543Z"
    }
   },
   "outputs": [],
   "source": [
    "!pip install evaluate\n",
    "import evaluate\n",
    "\n",
    "metric = evaluate.load('accuracy')\n",
    "\n",
    "def compute_metrics(eval_pred):\n",
    "    logits, labels = eval_pred\n",
    "    predictions = np.argmax(logits, axis=-1)\n",
    "    return metric.compute(predictions=predictions, references=labels)"
   ]
  },
  {
   "cell_type": "markdown",
   "id": "455af53b-eac6-4f66-b375-44f3d12b0916",
   "metadata": {},
   "source": [
    "### Training"
   ]
  },
  {
   "cell_type": "code",
   "execution_count": null,
   "id": "c6eb008b-18a6-4c1c-b09a-de1b29da509b",
   "metadata": {
    "execution": {
     "iopub.execute_input": "2023-01-21T01:19:54.319359Z",
     "iopub.status.busy": "2023-01-21T01:19:54.318680Z",
     "iopub.status.idle": "2023-01-21T01:19:54.347785Z",
     "shell.execute_reply": "2023-01-21T01:19:54.346908Z",
     "shell.execute_reply.started": "2023-01-21T01:19:54.319321Z"
    }
   },
   "outputs": [],
   "source": [
    "from transformers import TrainingArguments, Trainer, DataCollatorWithPadding\n",
    "\n",
    "# Hyperparameters\n",
    "batch_size = 4\n",
    "epochs = 8\n",
    "learn_rate = 5e-4"
   ]
  },
  {
   "cell_type": "code",
   "execution_count": null,
   "id": "4f7023f1-82f6-4c64-a94e-05891e990f10",
   "metadata": {
    "execution": {
     "iopub.execute_input": "2023-01-21T01:19:54.349524Z",
     "iopub.status.busy": "2023-01-21T01:19:54.349156Z",
     "iopub.status.idle": "2023-01-21T01:19:54.357126Z",
     "shell.execute_reply": "2023-01-21T01:19:54.356280Z",
     "shell.execute_reply.started": "2023-01-21T01:19:54.349489Z"
    }
   },
   "outputs": [],
   "source": [
    "args = TrainingArguments('outputs', learning_rate=learn_rate, warmup_ratio=0.1, lr_scheduler_type='cosine', fp16=True,\n",
    "    evaluation_strategy=\"epoch\", per_device_train_batch_size=batch_size, per_device_eval_batch_size=batch_size*2,\n",
    "    num_train_epochs=epochs, weight_decay=0.01, report_to='none')"
   ]
  },
  {
   "cell_type": "code",
   "execution_count": null,
   "id": "8865297a-c90b-48f7-9e0c-70ce8d4ae442",
   "metadata": {
    "execution": {
     "iopub.execute_input": "2023-01-21T01:19:54.358396Z",
     "iopub.status.busy": "2023-01-21T01:19:54.358149Z",
     "iopub.status.idle": "2023-01-21T01:19:58.829756Z",
     "shell.execute_reply": "2023-01-21T01:19:58.828755Z",
     "shell.execute_reply.started": "2023-01-21T01:19:54.358365Z"
    }
   },
   "outputs": [],
   "source": [
    "model = AutoModelForSequenceClassification.from_pretrained(model_nm, num_labels=1)\n",
    "data_collator = DataCollatorWithPadding(tokenizer=tokenize)\n",
    "\n",
    "trainer = Trainer(model, args, train_dataset=dds['train'], eval_dataset=dds['test'], data_collator=data_collator,\n",
    "                  tokenizer=tokenize, compute_metrics=compute_metrics)"
   ]
  },
  {
   "cell_type": "code",
   "execution_count": null,
   "id": "e4f8f4d0-7e51-43f9-a880-447903daad63",
   "metadata": {
    "execution": {
     "iopub.execute_input": "2023-01-21T01:19:58.831509Z",
     "iopub.status.busy": "2023-01-21T01:19:58.831499Z",
     "iopub.status.idle": "2023-01-21T01:19:58.841719Z",
     "shell.execute_reply": "2023-01-21T01:19:58.840757Z",
     "shell.execute_reply.started": "2023-01-21T01:19:58.831509Z"
    }
   },
   "outputs": [],
   "source": [
    "data_collator = trainer.get_train_dataloader().collate_fn\n",
    "data_collator"
   ]
  },
  {
   "cell_type": "code",
   "execution_count": null,
   "id": "85c3f523-0dd0-42c8-9b94-00a374ddac22",
   "metadata": {
    "execution": {
     "iopub.execute_input": "2023-01-21T01:19:58.843696Z",
     "iopub.status.busy": "2023-01-21T01:19:58.843364Z",
     "iopub.status.idle": "2023-01-21T01:23:43.786097Z",
     "shell.execute_reply": "2023-01-21T01:23:43.785111Z",
     "shell.execute_reply.started": "2023-01-21T01:19:58.843670Z"
    }
   },
   "outputs": [],
   "source": [
    "import torch\n",
    "torch.cuda.empty_cache()\n",
    "\n",
    "import gc\n",
    "gc.collect()\n",
    "\n",
    "trainer.train()\n",
    "# trainer.evaluate()"
   ]
  },
  {
   "cell_type": "markdown",
   "id": "994b5e32-229a-43da-92a1-f3f1d8bf3c9e",
   "metadata": {},
   "source": [
    "### Testing Outputs of our Trained Model"
   ]
  },
  {
   "cell_type": "code",
   "execution_count": null,
   "id": "2a47c861-b480-49bd-b0ba-c456e336ff47",
   "metadata": {
    "execution": {
     "iopub.execute_input": "2023-01-21T01:23:43.791277Z",
     "iopub.status.busy": "2023-01-21T01:23:43.790705Z",
     "iopub.status.idle": "2023-01-21T01:23:43.796453Z",
     "shell.execute_reply": "2023-01-21T01:23:43.795491Z",
     "shell.execute_reply.started": "2023-01-21T01:23:43.791277Z"
    }
   },
   "outputs": [],
   "source": [
    "# Figure out a way to save the model for later use on local computer. torch.save doesn't work??"
   ]
  },
  {
   "cell_type": "code",
   "execution_count": null,
   "id": "ea79b2f2-b86f-4570-ae5e-f1f1be98d2ee",
   "metadata": {
    "execution": {
     "iopub.execute_input": "2023-01-21T01:23:43.800219Z",
     "iopub.status.busy": "2023-01-21T01:23:43.799984Z",
     "iopub.status.idle": "2023-01-21T01:23:43.815089Z",
     "shell.execute_reply": "2023-01-21T01:23:43.813735Z",
     "shell.execute_reply.started": "2023-01-21T01:23:43.800194Z"
    }
   },
   "outputs": [],
   "source": [
    "# Prepping a dataframe with sample inputs\n",
    "room_info = [['Lobby', 300], ['Staff Office', 220], ['Vestibule', 100]]\n",
    "\n",
    "pred_df = pd.DataFrame(room_info, columns=['name', 'area'])\n",
    "pred_df.name = pred_df.name.str.upper()\n",
    "pred_df.area = pred_df.area.astype(str)\n",
    "pred_df['input'] = 'TEXT1: ' + pred_df.name + '; TEXT2: ' + pred_df.area\n",
    "pred_df\n"
   ]
  },
  {
   "cell_type": "code",
   "execution_count": null,
   "id": "e8f5dbef-155a-4cd8-abf5-418bc6874b30",
   "metadata": {
    "execution": {
     "iopub.execute_input": "2023-01-21T01:23:43.818614Z",
     "iopub.status.busy": "2023-01-21T01:23:43.818390Z",
     "iopub.status.idle": "2023-01-21T01:23:43.862968Z",
     "shell.execute_reply": "2023-01-21T01:23:43.862037Z",
     "shell.execute_reply.started": "2023-01-21T01:23:43.818591Z"
    }
   },
   "outputs": [],
   "source": [
    "# Converting our dataframe to a dataset\n",
    "pred_ds = Dataset.from_pandas(pred_df).map(tokenize_fnc, batched=False)\n",
    "\n",
    "pred_ds = pred_ds.remove_columns(['input', 'name', 'area'])\n",
    "columns_to_return = ['input_ids', 'attention_mask', 'token_type_ids']\n",
    "pred_ds.set_format(type='torch', columns=columns_to_return)\n",
    "\n",
    "pred_ds"
   ]
  },
  {
   "cell_type": "code",
   "execution_count": null,
   "id": "8c42236e-dbd9-409a-92f4-951899d386e9",
   "metadata": {
    "execution": {
     "iopub.execute_input": "2023-01-21T01:23:43.866527Z",
     "iopub.status.busy": "2023-01-21T01:23:43.866309Z",
     "iopub.status.idle": "2023-01-21T01:23:43.942402Z",
     "shell.execute_reply": "2023-01-21T01:23:43.941257Z",
     "shell.execute_reply.started": "2023-01-21T01:23:43.866504Z"
    }
   },
   "outputs": [],
   "source": [
    "# Running our inputs in dataset form through the model\n",
    "preds = trainer.predict(pred_ds).predictions.astype(int)\n",
    "preds = np.squeeze(preds)\n",
    "preds.shape"
   ]
  },
  {
   "cell_type": "code",
   "execution_count": null,
   "id": "f034dfc3-3dd4-49c7-a03a-3acd7a6100c5",
   "metadata": {
    "execution": {
     "iopub.execute_input": "2023-01-21T01:23:43.946346Z",
     "iopub.status.busy": "2023-01-21T01:23:43.946116Z",
     "iopub.status.idle": "2023-01-21T01:23:43.957819Z",
     "shell.execute_reply": "2023-01-21T01:23:43.956888Z",
     "shell.execute_reply.started": "2023-01-21T01:23:43.946323Z"
    }
   },
   "outputs": [],
   "source": [
    "# Final outputs!\n",
    "label_dict\n",
    "reversed_dict = dict([(value, key) for key, value in label_dict.items()])\n",
    "\n",
    "pred_categories = []\n",
    "for prediction in preds:\n",
    "    category = reversed_dict[prediction]\n",
    "    pred_categories.append(category)\n",
    "pred_df['cat_prediction'] = pred_categories\n",
    "pred_df"
   ]
  },
  {
   "cell_type": "code",
   "execution_count": null,
   "id": "8cfef1ae-dbad-4663-8588-ca34b80e05ea",
   "metadata": {},
   "outputs": [],
   "source": []
  }
 ],
 "metadata": {
  "kernelspec": {
   "display_name": "Python 3 (ipykernel)",
   "language": "python",
   "name": "python3"
  },
  "language_info": {
   "codemirror_mode": {
    "name": "ipython",
    "version": 3
   },
   "file_extension": ".py",
   "mimetype": "text/x-python",
   "name": "python",
   "nbconvert_exporter": "python",
   "pygments_lexer": "ipython3",
   "version": "3.9.13"
  }
 },
 "nbformat": 4,
 "nbformat_minor": 5
}
